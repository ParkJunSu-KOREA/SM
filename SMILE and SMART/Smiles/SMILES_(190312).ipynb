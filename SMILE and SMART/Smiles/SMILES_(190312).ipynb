{
 "cells": [
  {
   "cell_type": "markdown",
   "metadata": {},
   "source": [
    "## 5.Extensions for Reactions ( `>` )"
   ]
  },
  {
   "cell_type": "markdown",
   "metadata": {},
   "source": [
    "> 반응식의 SMILES 언어 <br>\n",
    "`Reactant` > `Agent` > `Product`<br>\n",
    "`Reactant` >> `Product`<br>\n",
    "\n",
    "---------------------------------\n",
    "\n",
    "아래의 예시는 하나의 같은 반응을 의미한다.\n",
    "\n",
    "* C=CCBr >> C=CCI <br>\n",
    "* [I-].[Na+].C=CCBr >> [Na+].[Br-].C=CCI <br>\n",
    "* C=CCBr.[Na+].[I-] > CC(=O)C > C=CCI.[Na+].[Br-] <br>\n",
    "\n",
    "그러나 이 반응에서 어느 위치의 `C`에 반응하는지 알 수 없다. 때문에 `Atom Maps`가 필요하다.\n",
    "\n",
    "![ReactionsNoMaps](http://www.daylight.com/dayhtml/doc/theory/disp.gif)"
   ]
  },
  {
   "cell_type": "code",
   "execution_count": 1,
   "metadata": {},
   "outputs": [],
   "source": [
    "#RDkit 적용\n",
    "from __future__ import print_function #2.X대 python호환을 위해\n",
    "from rdkit import Chem\n",
    "from rdkit.Chem import AllChem"
   ]
  },
  {
   "cell_type": "code",
   "execution_count": 2,
   "metadata": {},
   "outputs": [],
   "source": [
    "from rdkit.Chem.Draw import IPythonConsole\n",
    "from rdkit.Chem import Draw"
   ]
  },
  {
   "cell_type": "code",
   "execution_count": 3,
   "metadata": {},
   "outputs": [
    {
     "data": {
      "image/png": "[encoded data removed]",
      "text/plain": [
       "<rdkit.Chem.rdChemReactions.ChemicalReaction at 0x63cafc0>"
      ]
     },
     "execution_count": 3,
     "metadata": {},
     "output_type": "execute_result"
    }
   ],
   "source": [
    "rxn = AllChem.ReactionFromSmarts('C=CCBr>>C=CCI')\n",
    "rxn"
   ]
  },
  {
   "cell_type": "code",
   "execution_count": 4,
   "metadata": {},
   "outputs": [
    {
     "data": {
      "image/png": "[encoded data removed]",
      "text/plain": [
       "<rdkit.Chem.rdChemReactions.ChemicalReaction at 0x74839a8>"
      ]
     },
     "execution_count": 4,
     "metadata": {},
     "output_type": "execute_result"
    }
   ],
   "source": [
    "rxn = AllChem.ReactionFromSmarts('[I-].[Na+].C=CCBr >> [Na+].[Br-].C=CCI ')\n",
    "rxn"
   ]
  },
  {
   "cell_type": "code",
   "execution_count": 5,
   "metadata": {},
   "outputs": [
    {
     "data": {
      "image/png": "[encoded data removed]",
      "text/plain": [
       "<rdkit.Chem.rdChemReactions.ChemicalReaction at 0x7483e08>"
      ]
     },
     "execution_count": 5,
     "metadata": {},
     "output_type": "execute_result"
    }
   ],
   "source": [
    "rxn = AllChem.ReactionFromSmarts('C=CCBr.[Na+].[I-] > CC(=O)C > C=CCI.[Na+].[Br-] ')\n",
    "rxn"
   ]
  },
  {
   "cell_type": "markdown",
   "metadata": {},
   "source": [
    "### 5.1 Reaction Atom Maps\n",
    "\n",
    "> `Atom Map`은 컴퓨터가 반응물과 생성물사이의 같은 원자임을 알 수 있게 명확하게 표현해주는 방법이다.\n",
    "\n",
    "* 원하는 원자의 뒤에 `:`와 숫자를 이용해 표시한다. ( `[CH3:2]` 는 `H`를 3개 가지고 있는 탄소에 2번을 부여함을 의미한다.  )\n",
    "* 부여한 숫자는 추가적인 성질을 나타내지 않는다. 단지 구분짓기 위함이다. ( 단, 모든 원자에 같은 숫자를 부여할 경우는 제외. )"
   ]
  },
  {
   "cell_type": "code",
   "execution_count": 6,
   "metadata": {},
   "outputs": [
    {
     "data": {
      "image/png": "[encoded data removed]",
      "text/plain": [
       "<rdkit.Chem.rdchem.Mol at 0x7483bd8>"
      ]
     },
     "execution_count": 6,
     "metadata": {},
     "output_type": "execute_result"
    }
   ],
   "source": [
    "mol = AllChem.MolFromSmarts('C=CCCC(C)C')  # [CH2]=[CH][CH2][CH2][C](C)[CH2]\n",
    "mol"
   ]
  },
  {
   "cell_type": "code",
   "execution_count": 7,
   "metadata": {},
   "outputs": [
    {
     "data": {
      "image/png": "[encoded data removed]",
      "text/plain": [
       "<rdkit.Chem.rdchem.Mol at 0x638c9d0>"
      ]
     },
     "execution_count": 7,
     "metadata": {},
     "output_type": "execute_result"
    }
   ],
   "source": [
    "mol = AllChem.MolFromSmarts('[CH2:1]=[CH:2][CH2:1][CH2:3][C:4](C)[CH2:3]')\n",
    "mol"
   ]
  },
  {
   "cell_type": "code",
   "execution_count": 8,
   "metadata": {},
   "outputs": [
    {
     "data": {
      "image/png": "[encoded data removed]",
      "text/plain": [
       "<rdkit.Chem.rdchem.Mol at 0x74832c8>"
      ]
     },
     "execution_count": 8,
     "metadata": {},
     "output_type": "execute_result"
    }
   ],
   "source": [
    "mol = AllChem.MolFromSmarts('[CH2:1]=[CH:1][CH2:1][CH2:1][C:1](C)[CH2:1]')\n",
    "mol"
   ]
  },
  {
   "cell_type": "markdown",
   "metadata": {},
   "source": [
    "### Atom Map은 유일하거나 완전하지 않다.\n",
    "\n",
    "1. 반응이 일어날 때, 분자에 결합을 표현하는데 한계가 있다. <br>\n",
    "예를들어 *Sodium Acetate* ( `CC(=O)[O-].[Na+]` ) 속의 산소원자를 화학적으로 구분할 수 없는데, *toolkit* 은 구별해주어야한다.<br>\n",
    "몇몇 시스템은 이런 동등함을 인정하는데, 이러한 경우에  같은 숫자로 `Map`한다. ( `[CH3:1][C:2](=[O:3])[O-:3].[Na+:4]` )\n"
   ]
  },
  {
   "cell_type": "code",
   "execution_count": 9,
   "metadata": {},
   "outputs": [
    {
     "data": {
      "image/png": "[encoded data removed]",
      "text/plain": [
       "<rdkit.Chem.rdchem.Mol at 0x7483700>"
      ]
     },
     "execution_count": 9,
     "metadata": {},
     "output_type": "execute_result"
    }
   ],
   "source": [
    "mol = AllChem.MolFromSmarts('CC(=O)[O-].[Na+]')\n",
    "mol"
   ]
  },
  {
   "cell_type": "code",
   "execution_count": 5,
   "metadata": {},
   "outputs": [
    {
     "data": {
      "image/png": "[encoded data removed]",
      "text/plain": [
       "<rdkit.Chem.rdchem.Mol at 0x1d50f23bd50>"
      ]
     },
     "execution_count": 5,
     "metadata": {},
     "output_type": "execute_result"
    }
   ],
   "source": [
    "mol = AllChem.MolFromSmiles('[CH3:1][C:2](=[O:3])[O-:3].[Na+:4]')\n",
    "mol"
   ]
  },
  {
   "cell_type": "code",
   "execution_count": 11,
   "metadata": {},
   "outputs": [
    {
     "data": {
      "image/png": "[encoded data removed]",
      "text/plain": [
       "<rdkit.Chem.rdChemReactions.ChemicalReaction at 0x74832a0>"
      ]
     },
     "execution_count": 11,
     "metadata": {},
     "output_type": "execute_result"
    }
   ],
   "source": [
    "# 반응식으로도 Atom Map을 적용해보자.\n",
    "rxn = AllChem.ReactionFromSmarts('CC(=O)[O-].[Na+]>[H]Cl>CC(=O)O')\n",
    "rxn"
   ]
  },
  {
   "cell_type": "code",
   "execution_count": 12,
   "metadata": {},
   "outputs": [
    {
     "data": {
      "image/png": "[encoded data removed]",
      "text/plain": [
       "<rdkit.Chem.rdChemReactions.ChemicalReaction at 0x748b188>"
      ]
     },
     "execution_count": 12,
     "metadata": {},
     "output_type": "execute_result"
    }
   ],
   "source": [
    "rxn = AllChem.ReactionFromSmarts('[CH3:1][C:2](=[O:3])[O-:5].[Na+:4]>[H]Cl>[CH3:1][C:2](=[O:3])[OH:5]')\n",
    "rxn"
   ]
  },
  {
   "cell_type": "code",
   "execution_count": 13,
   "metadata": {},
   "outputs": [
    {
     "data": {
      "image/png": "[encoded data removed]",
      "text/plain": [
       "<rdkit.Chem.rdChemReactions.ChemicalReaction at 0x748bbd8>"
      ]
     },
     "execution_count": 13,
     "metadata": {},
     "output_type": "execute_result"
    }
   ],
   "source": [
    "rxn = AllChem.ReactionFromSmarts('[CH3:1][C:2](=[O:3])[O-:5].[Na+:4]>[H]Cl>[CH3:1][C:2](=[O:5])[OH:3]')\n",
    "rxn"
   ]
  },
  {
   "cell_type": "markdown",
   "metadata": {},
   "source": [
    "2. 반응매커니즘이 애매할 때 <br>\n",
    "예를들어, ![secondcase](http://www.daylight.com/dayhtml/doc/theory/cope.gif) <br>\n",
    "이 경우 실제로는 두가지의 다른 반응 매커니즘이 있지만,  `[CH2:1]=[CH:2][CH2:1][CH2:3][C:4](C)[CH2:3]`으로 표현해준다."
   ]
  },
  {
   "cell_type": "markdown",
   "metadata": {},
   "source": [
    "3. 반응에 대한 정보가 부족한 경우. <br>\n",
    "확실한 정보에 대해서 부분적으로만 `Mapping`한다. 절대로 모르는 반응에 입력하려하면 안 된다.<br>\n",
    "`Atom Map`은 `unique SMILES`에서 나타나지않는다. <br>\n",
    "4. `Atom Map`은 어떤 의미도 가지지않는 숫자일 뿐이다."
   ]
  },
  {
   "cell_type": "markdown",
   "metadata": {},
   "source": [
    "### 5.2 Hydrogens\n",
    "\n",
    "> 수소는 특별한 경우가 아니면 분자안에 숨어있다. 전하를 띄거나, 동위원소, 다른 수소와 결합, 다중결합을 하는 특별한 경우에 수소의 `atom map`이 필요하며, 이를 입력하면 수소를 `special`로 간주한다."
   ]
  },
  {
   "cell_type": "code",
   "execution_count": 14,
   "metadata": {},
   "outputs": [
    {
     "data": {
      "image/png": "[encoded data removed]",
      "text/plain": [
       "<rdkit.Chem.rdchem.Mol at 0x748b5c0>"
      ]
     },
     "execution_count": 14,
     "metadata": {},
     "output_type": "execute_result"
    }
   ],
   "source": [
    "mol = AllChem.MolFromSmarts('[H:1][H:2]')\n",
    "mol"
   ]
  }
 ],
 "metadata": {
  "kernelspec": {
   "display_name": "Python 3",
   "language": "python",
   "name": "python3"
  },
  "language_info": {
   "codemirror_mode": {
    "name": "ipython",
    "version": 3
   },
   "file_extension": ".py",
   "mimetype": "text/x-python",
   "name": "python",
   "nbconvert_exporter": "python",
   "pygments_lexer": "ipython3",
   "version": "3.6.5"
  }
 },
 "nbformat": 4,
 "nbformat_minor": 2
}
